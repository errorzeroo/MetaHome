{
 "cells": [
  {
   "cell_type": "code",
   "execution_count": 27,
   "metadata": {},
   "outputs": [],
   "source": [
    "import time\n",
    "\n",
    "from selenium import webdriver\n",
    "from selenium.webdriver.chrome.service import Service\n",
    "from selenium.webdriver.chrome.options import Options \n",
    "from selenium.webdriver.common.by import By\n",
    "from webdriver_manager.chrome import ChromeDriverManager\n",
    "from selenium.webdriver.common.keys import Keys\n",
    "\n",
    "options = webdriver.ChromeOptions()\n",
    "options.add_argument(\"--ignore-local-proxy\")\n",
    "\n",
    "#크롬드라이버 매니저를 통해 최신 드라이버를 설치하고 서비스 만들어냄\n",
    "driver = webdriver.Chrome(service=Service(ChromeDriverManager().install()), options=options)\n",
    "\n",
    "URL='https://www.myhome.go.kr/hws/portal/sch/selectRentalHouseInfoListView.do'\n",
    "driver.get(url=URL)\n",
    "\n",
    "time.sleep(5)\n",
    "\n",
    "# Find the element by ID and click it\n",
    "btn = driver.find_element(By.CSS_SELECTOR, '#contentsArea > div.housing-searchbox')\n",
    "btn.click()\n",
    "\n",
    "# Optionally, wait before closing the browser\n",
    "time.sleep(5)\n",
    "\n",
    "gu = driver.find_element(By.CSS_SELECTOR, '#signguCode')\n",
    "gu.click()\n",
    "\n",
    "time.sleep(5)\n",
    "\n",
    "# Close the browser\n",
    "driver.quit()\n"
   ]
  }
 ],
 "metadata": {
  "kernelspec": {
   "display_name": "Python 3",
   "language": "python",
   "name": "python3"
  },
  "language_info": {
   "codemirror_mode": {
    "name": "ipython",
    "version": 3
   },
   "file_extension": ".py",
   "mimetype": "text/x-python",
   "name": "python",
   "nbconvert_exporter": "python",
   "pygments_lexer": "ipython3",
   "version": "3.10.11"
  }
 },
 "nbformat": 4,
 "nbformat_minor": 2
}
